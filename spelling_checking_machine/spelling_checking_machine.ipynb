{
 "cells": [
  {
   "cell_type": "code",
   "execution_count": 1,
   "metadata": {},
   "outputs": [],
   "source": [
    "import re\n",
    "import collections\n",
    "\n",
    "def words(text):\n",
    "    return re.findall('[a-z]+', text.lower())\n",
    "\n",
    "def train(features):\n",
    "    model = collections.defaultdict(lambda:1)\n",
    "    for f in features:\n",
    "        model[f] += 1\n",
    "    return model\n",
    "\n",
    "NWORDS = train(words(open('corpora.txt').read()))\n",
    "\n",
    "alpha = 'abcdefghijklmnopqrstuvwxyz'\n",
    "\n",
    "def edit_distance(word):\n",
    "    n = len(word)\n",
    "    deletion = []\n",
    "    for i in range(n):\n",
    "        deletion.append(word[0:i] + word[i+1:])\n",
    "    alter = []\n",
    "    for i in range(n):\n",
    "        for alp in alpha:\n",
    "            alter.append(word[0:i] + alp + word[i+1:])\n",
    "    insert = []\n",
    "    for i in range(n+1):\n",
    "        for alp in alpha:\n",
    "            insert.append(word[0:i] + alp + word[i:])\n",
    "    transition = []\n",
    "    for i in range(n-1):\n",
    "        transition.append(word[0:i] + word[i+1] + word[i] + word[i+2:])\n",
    "    return set(deletion+alter+insert+transition)\n",
    "\n",
    "def edit_distance2(word):\n",
    "    return set(e2 for e1 in edit_distance(word) for e2 in edit_distance(e1) if e2 in NWORDS)\n",
    "\n",
    "def existed(word):\n",
    "    return set(w for w in word if w in NWORDS)\n",
    "\n",
    "def correct(word):\n",
    "    candidates = existed([word]) or existed(edit_distance(word)) or edit_distance2(word) or word\n",
    "    return max(candidates, key = lambda w: NWORDS[w])"
   ]
  },
  {
   "cell_type": "code",
   "execution_count": 2,
   "metadata": {},
   "outputs": [
    {
     "data": {
      "text/plain": [
       "'tess'"
      ]
     },
     "execution_count": 2,
     "metadata": {},
     "output_type": "execute_result"
    }
   ],
   "source": [
    "correct('tess')"
   ]
  },
  {
   "cell_type": "code",
   "execution_count": 3,
   "metadata": {},
   "outputs": [
    {
     "data": {
      "text/plain": [
       "2"
      ]
     },
     "execution_count": 3,
     "metadata": {},
     "output_type": "execute_result"
    }
   ],
   "source": [
    "NWORDS['tess']"
   ]
  },
  {
   "cell_type": "code",
   "execution_count": 4,
   "metadata": {},
   "outputs": [
    {
     "data": {
      "text/plain": [
       "('learn', 'university', 'college', 'school', 'phone')"
      ]
     },
     "execution_count": 4,
     "metadata": {},
     "output_type": "execute_result"
    }
   ],
   "source": [
    "correct('learw'), correct('uniersity'), correct('collaege'), correct('scool'),correct('phonea')"
   ]
  }
 ],
 "metadata": {
  "kernelspec": {
   "display_name": "Python 3",
   "language": "python",
   "name": "python3"
  },
  "language_info": {
   "codemirror_mode": {
    "name": "ipython",
    "version": 3
   },
   "file_extension": ".py",
   "mimetype": "text/x-python",
   "name": "python",
   "nbconvert_exporter": "python",
   "pygments_lexer": "ipython3",
   "version": "3.7.1"
  }
 },
 "nbformat": 4,
 "nbformat_minor": 2
}
